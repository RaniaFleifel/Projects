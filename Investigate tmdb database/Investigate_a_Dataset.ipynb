{
 "cells": [
  {
   "cell_type": "markdown",
   "metadata": {},
   "source": [
    "\n",
    "# Project: Investigate a Dataset - [TMDb movie data]\n",
    "\n",
    "## Table of Contents\n",
    "<ul>\n",
    "<li><a href=\"#intro\">Introduction</a></li>\n",
    "<li><a href=\"#wrangling\">Data Wrangling</a></li>\n",
    "<li><a href=\"#eda\">Exploratory Data Analysis</a></li>\n",
    "<li><a href=\"#conclusions\">Conclusions</a></li>\n",
    "</ul>\n",
    "\n",
    "** Limitations are mentioned as Disclaimers in markdown cells as we go\n",
    "\n",
    "** Functions are underlined"
   ]
  },
  {
   "cell_type": "markdown",
   "metadata": {},
   "source": [
    "<a id='intro'></a>\n",
    "## Introduction\n",
    "\n",
    "### Dataset Description \n",
    "\n",
    "\n",
    "#### In this project, I investigate TMDb movie dataset. This database provide various metrics that identify the movie as well as information regarding the crew involved in making each movie,as well as the budget and revenue involved. It also highlights the masses opinion of each movie through multiple variables. Below, I elaborate on the varibales involved in the database and what each value represents.\n",
    "\n",
    "\n",
    "##### Variables: (Total:21) \n",
    "\n",
    "     - 'id'--> unique identifier for each movie\n",
    "     - 'imdb_id'--> unique identifier for each record of movie on imdb\n",
    "     - 'original_title'--> movie's title\n",
    "     - 'homepage'--> a link to the movie's website\n",
    "     - 'tagline' --> catchphrase of the movie \n",
    "     - 'keywords'--> added by the audience  \n",
    "     - 'overview'--> short description of the movie's plot\n",
    "     - 'genre'--> the category the movie falls into\n",
    "     - 'runtime'--> how long the movie is in minutes\n",
    "     - 'releast_date'--> the day the movie was released M/D/Y\n",
    "     - 'release_year'--> the year the movie was released \n",
    "     - 'cast'--> the actors that appeared in the movie\n",
    "     - 'director'--> the name of the director\n",
    "     - 'production_companies'--> the production companies involved in the movie\n",
    "     - 'budget'--> the cost of the movie from production point of view\n",
    "     -'revenue'--> the boxoffice revenues of the movie\n",
    "     -'budget_adj'--> budget scaled to the year 2010, taking in consideration the value of the currency and inflation\n",
    "     -'revenue_adj'--> revenue scaled to the year 2010, taking in consideration the value of the currency and inflation\n",
    "     -'popularity'--> represent various factors such as the number of views per day, number of people who \"favorite\"-ed the movie or added it to their \"watchlist\"\n",
    "     -'vote_count'--> integer value that represents the number of people who rated the movie\n",
    "     -'vote_average'--> the mean of all votes \n",
    "\n",
    "\n",
    "### Question(s) for Analysis\n",
    "\n",
    "#### 1) What are the characteristics of high revenue [>75%] movies ? Compared to budget, average count and release year\n",
    "\n",
    "#### 2) Effect of time of release (holidays/weekends) on the number of profiting movies released per yer and over all years\n",
    "\n",
    "#### 3) The trend of budget,revenue,popularity and vote count on movies with several parts (sequels or remakes) "
   ]
  },
  {
   "cell_type": "code",
   "execution_count": 1,
   "metadata": {},
   "outputs": [],
   "source": [
    "#Set up import statements for all of the packages used \n",
    "\n",
    "import pandas as pd\n",
    "import numpy as np\n",
    "import matplotlib.pyplot as plt\n",
    "% matplotlib inline\n",
    "\n",
    "from difflib import SequenceMatcher\n"
   ]
  },
  {
   "cell_type": "code",
   "execution_count": 2,
   "metadata": {},
   "outputs": [
    {
     "name": "stdout",
     "output_type": "stream",
     "text": [
      "Requirement already up-to-date: pandas==1.0.0 in /opt/conda/lib/python3.6/site-packages (1.0.0)\r\n",
      "Requirement already satisfied, skipping upgrade: numpy>=1.13.3 in /opt/conda/lib/python3.6/site-packages (from pandas==1.0.0) (1.19.5)\r\n",
      "Requirement already satisfied, skipping upgrade: python-dateutil>=2.6.1 in /opt/conda/lib/python3.6/site-packages (from pandas==1.0.0) (2.6.1)\r\n",
      "Requirement already satisfied, skipping upgrade: pytz>=2017.2 in /opt/conda/lib/python3.6/site-packages (from pandas==1.0.0) (2017.3)\r\n",
      "Requirement already satisfied, skipping upgrade: six>=1.5 in /opt/conda/lib/python3.6/site-packages (from python-dateutil>=2.6.1->pandas==1.0.0) (1.11.0)\r\n"
     ]
    }
   ],
   "source": [
    "# Upgrade pandas to use dataframe.explode() function. \n",
    "!pip install --upgrade pandas==1.0.0"
   ]
  },
  {
   "cell_type": "markdown",
   "metadata": {},
   "source": [
    "<a id='wrangling'></a>\n",
    "## Data Wrangling\n",
    "\n",
    "\n",
    "#### General Properties\n",
    "\n",
    "In this cell, Inspect for each column:\n",
    "\n",
    "     1) datatype\n",
    "     2) missing values\n",
    "     3) number of zerovalues  "
   ]
  },
  {
   "cell_type": "code",
   "execution_count": 3,
   "metadata": {},
   "outputs": [
    {
     "data": {
      "text/html": [
       "<div>\n",
       "<style scoped>\n",
       "    .dataframe tbody tr th:only-of-type {\n",
       "        vertical-align: middle;\n",
       "    }\n",
       "\n",
       "    .dataframe tbody tr th {\n",
       "        vertical-align: top;\n",
       "    }\n",
       "\n",
       "    .dataframe thead th {\n",
       "        text-align: right;\n",
       "    }\n",
       "</style>\n",
       "<table border=\"1\" class=\"dataframe\">\n",
       "  <thead>\n",
       "    <tr style=\"text-align: right;\">\n",
       "      <th></th>\n",
       "      <th>imdb_id</th>\n",
       "      <th>popularity</th>\n",
       "      <th>budget</th>\n",
       "      <th>revenue</th>\n",
       "      <th>original_title</th>\n",
       "      <th>cast</th>\n",
       "      <th>homepage</th>\n",
       "      <th>director</th>\n",
       "      <th>tagline</th>\n",
       "      <th>keywords</th>\n",
       "      <th>overview</th>\n",
       "      <th>runtime</th>\n",
       "      <th>genres</th>\n",
       "      <th>production_companies</th>\n",
       "      <th>release_date</th>\n",
       "      <th>vote_count</th>\n",
       "      <th>vote_average</th>\n",
       "      <th>release_year</th>\n",
       "      <th>budget_adj</th>\n",
       "      <th>revenue_adj</th>\n",
       "    </tr>\n",
       "    <tr>\n",
       "      <th>id</th>\n",
       "      <th></th>\n",
       "      <th></th>\n",
       "      <th></th>\n",
       "      <th></th>\n",
       "      <th></th>\n",
       "      <th></th>\n",
       "      <th></th>\n",
       "      <th></th>\n",
       "      <th></th>\n",
       "      <th></th>\n",
       "      <th></th>\n",
       "      <th></th>\n",
       "      <th></th>\n",
       "      <th></th>\n",
       "      <th></th>\n",
       "      <th></th>\n",
       "      <th></th>\n",
       "      <th></th>\n",
       "      <th></th>\n",
       "      <th></th>\n",
       "    </tr>\n",
       "  </thead>\n",
       "  <tbody>\n",
       "    <tr>\n",
       "      <th>135397</th>\n",
       "      <td>tt0369610</td>\n",
       "      <td>32.985763</td>\n",
       "      <td>150000000</td>\n",
       "      <td>1513528810</td>\n",
       "      <td>Jurassic World</td>\n",
       "      <td>Chris Pratt|Bryce Dallas Howard|Irrfan Khan|Vi...</td>\n",
       "      <td>http://www.jurassicworld.com/</td>\n",
       "      <td>Colin Trevorrow</td>\n",
       "      <td>The park is open.</td>\n",
       "      <td>monster|dna|tyrannosaurus rex|velociraptor|island</td>\n",
       "      <td>Twenty-two years after the events of Jurassic ...</td>\n",
       "      <td>124</td>\n",
       "      <td>Action|Adventure|Science Fiction|Thriller</td>\n",
       "      <td>Universal Studios|Amblin Entertainment|Legenda...</td>\n",
       "      <td>6/9/15</td>\n",
       "      <td>5562</td>\n",
       "      <td>6.5</td>\n",
       "      <td>2015</td>\n",
       "      <td>1.379999e+08</td>\n",
       "      <td>1.392446e+09</td>\n",
       "    </tr>\n",
       "    <tr>\n",
       "      <th>76341</th>\n",
       "      <td>tt1392190</td>\n",
       "      <td>28.419936</td>\n",
       "      <td>150000000</td>\n",
       "      <td>378436354</td>\n",
       "      <td>Mad Max: Fury Road</td>\n",
       "      <td>Tom Hardy|Charlize Theron|Hugh Keays-Byrne|Nic...</td>\n",
       "      <td>http://www.madmaxmovie.com/</td>\n",
       "      <td>George Miller</td>\n",
       "      <td>What a Lovely Day.</td>\n",
       "      <td>future|chase|post-apocalyptic|dystopia|australia</td>\n",
       "      <td>An apocalyptic story set in the furthest reach...</td>\n",
       "      <td>120</td>\n",
       "      <td>Action|Adventure|Science Fiction|Thriller</td>\n",
       "      <td>Village Roadshow Pictures|Kennedy Miller Produ...</td>\n",
       "      <td>5/13/15</td>\n",
       "      <td>6185</td>\n",
       "      <td>7.1</td>\n",
       "      <td>2015</td>\n",
       "      <td>1.379999e+08</td>\n",
       "      <td>3.481613e+08</td>\n",
       "    </tr>\n",
       "    <tr>\n",
       "      <th>262500</th>\n",
       "      <td>tt2908446</td>\n",
       "      <td>13.112507</td>\n",
       "      <td>110000000</td>\n",
       "      <td>295238201</td>\n",
       "      <td>Insurgent</td>\n",
       "      <td>Shailene Woodley|Theo James|Kate Winslet|Ansel...</td>\n",
       "      <td>http://www.thedivergentseries.movie/#insurgent</td>\n",
       "      <td>Robert Schwentke</td>\n",
       "      <td>One Choice Can Destroy You</td>\n",
       "      <td>based on novel|revolution|dystopia|sequel|dyst...</td>\n",
       "      <td>Beatrice Prior must confront her inner demons ...</td>\n",
       "      <td>119</td>\n",
       "      <td>Adventure|Science Fiction|Thriller</td>\n",
       "      <td>Summit Entertainment|Mandeville Films|Red Wago...</td>\n",
       "      <td>3/18/15</td>\n",
       "      <td>2480</td>\n",
       "      <td>6.3</td>\n",
       "      <td>2015</td>\n",
       "      <td>1.012000e+08</td>\n",
       "      <td>2.716190e+08</td>\n",
       "    </tr>\n",
       "  </tbody>\n",
       "</table>\n",
       "</div>"
      ],
      "text/plain": [
       "          imdb_id  popularity     budget     revenue      original_title  \\\n",
       "id                                                                         \n",
       "135397  tt0369610   32.985763  150000000  1513528810      Jurassic World   \n",
       "76341   tt1392190   28.419936  150000000   378436354  Mad Max: Fury Road   \n",
       "262500  tt2908446   13.112507  110000000   295238201           Insurgent   \n",
       "\n",
       "                                                     cast  \\\n",
       "id                                                          \n",
       "135397  Chris Pratt|Bryce Dallas Howard|Irrfan Khan|Vi...   \n",
       "76341   Tom Hardy|Charlize Theron|Hugh Keays-Byrne|Nic...   \n",
       "262500  Shailene Woodley|Theo James|Kate Winslet|Ansel...   \n",
       "\n",
       "                                              homepage          director  \\\n",
       "id                                                                         \n",
       "135397                   http://www.jurassicworld.com/   Colin Trevorrow   \n",
       "76341                      http://www.madmaxmovie.com/     George Miller   \n",
       "262500  http://www.thedivergentseries.movie/#insurgent  Robert Schwentke   \n",
       "\n",
       "                           tagline  \\\n",
       "id                                   \n",
       "135397           The park is open.   \n",
       "76341           What a Lovely Day.   \n",
       "262500  One Choice Can Destroy You   \n",
       "\n",
       "                                                 keywords  \\\n",
       "id                                                          \n",
       "135397  monster|dna|tyrannosaurus rex|velociraptor|island   \n",
       "76341    future|chase|post-apocalyptic|dystopia|australia   \n",
       "262500  based on novel|revolution|dystopia|sequel|dyst...   \n",
       "\n",
       "                                                 overview  runtime  \\\n",
       "id                                                                   \n",
       "135397  Twenty-two years after the events of Jurassic ...      124   \n",
       "76341   An apocalyptic story set in the furthest reach...      120   \n",
       "262500  Beatrice Prior must confront her inner demons ...      119   \n",
       "\n",
       "                                           genres  \\\n",
       "id                                                  \n",
       "135397  Action|Adventure|Science Fiction|Thriller   \n",
       "76341   Action|Adventure|Science Fiction|Thriller   \n",
       "262500         Adventure|Science Fiction|Thriller   \n",
       "\n",
       "                                     production_companies release_date  \\\n",
       "id                                                                       \n",
       "135397  Universal Studios|Amblin Entertainment|Legenda...       6/9/15   \n",
       "76341   Village Roadshow Pictures|Kennedy Miller Produ...      5/13/15   \n",
       "262500  Summit Entertainment|Mandeville Films|Red Wago...      3/18/15   \n",
       "\n",
       "        vote_count  vote_average  release_year    budget_adj   revenue_adj  \n",
       "id                                                                          \n",
       "135397        5562           6.5          2015  1.379999e+08  1.392446e+09  \n",
       "76341         6185           7.1          2015  1.379999e+08  3.481613e+08  \n",
       "262500        2480           6.3          2015  1.012000e+08  2.716190e+08  "
      ]
     },
     "metadata": {},
     "output_type": "display_data"
    },
    {
     "name": "stdout",
     "output_type": "stream",
     "text": [
      "Maximum number of unique entries= 10855 \n",
      "\n",
      "Each Column's unique entries, types & number of zeros: \n",
      "\n",
      "imdb_id   10855 objects , 0 zeros\n",
      "popularity   10814 float64s , 0 zeros\n",
      "budget   557 int64s , 5696 zeros\n",
      "revenue   4702 int64s , 6016 zeros\n",
      "original_title   10571 objects , 0 zeros\n",
      "cast   10719 objects , 0 zeros\n",
      "homepage   2896 objects , 0 zeros\n",
      "director   5067 objects , 0 zeros\n",
      "tagline   7997 objects , 0 zeros\n",
      "keywords   8804 objects , 0 zeros\n",
      "overview   10847 objects , 0 zeros\n",
      "runtime   247 int64s , 31 zeros\n",
      "genres   2039 objects , 0 zeros\n",
      "production_companies   7445 objects , 0 zeros\n",
      "release_date   5909 objects , 0 zeros\n",
      "vote_count   1289 int64s , 0 zeros\n",
      "vote_average   72 float64s , 0 zeros\n",
      "release_year   56 int64s , 0 zeros\n",
      "budget_adj   2614 float64s , 5696 zeros\n",
      "revenue_adj   4840 float64s , 6016 zeros\n"
     ]
    }
   ],
   "source": [
    "# Loading database\n",
    "df=pd.read_csv('Database_TMDb_movie_data/tmdb-movies.csv',index_col='id')\n",
    "display(df.head(3))\n",
    "\n",
    "#Inspect data types and look for instances of missing or possibly errant data.\n",
    "max_entries=df.nunique().max()\n",
    "print(\"Maximum number of unique entries=\",max_entries,'\\n')\n",
    "\n",
    "cols=df.columns.tolist()\n",
    "print(\"Each Column's unique entries, types & number of zeros: \\n\")\n",
    "for col in cols:\n",
    "    print(\"{}   {} {}s , {} zeros\".format(col,df[col].nunique(),df.dtypes[col],(df[col]==0).sum()));\n"
   ]
  },
  {
   "cell_type": "markdown",
   "metadata": {},
   "source": [
    "\n",
    "### Data Cleaning\n",
    " \n",
    "In this cell:\n",
    "\n",
    "1) Remove duplicates\n",
    "\n",
    "2) Drop cols that aren't helpful\n",
    "    \n",
    "- imdb_id-> redundant since i use id as the unique identifier for a movie\n",
    "- tagline-> it's hard to identify anything from one phrase\n",
    "- overview-> a bulk of sentences not really suitable for inter-variables analysis\n",
    "- keywords-> according to imdb.api, these are audience tags used to describe a movie, not systematic info\n",
    "- homepage-> Could be useful to parse the missing data - for now i won't use it\n",
    "- director-> I won't use it although it could be useful to find correlation between certain names and popularity\n",
    "- budget & revenue -> the 2010 version are more representative for comparisons \n",
    "\n",
    "3) Lowercase \n",
    "\n",
    "4) Remove whitespace \n",
    "\n",
    "5) Rename revenue_adj and budget_adj to revenue10,budget10"
   ]
  },
  {
   "cell_type": "code",
   "execution_count": 4,
   "metadata": {
    "scrolled": true
   },
   "outputs": [],
   "source": [
    " \n",
    "#remove duplicates\n",
    "df=df.drop_duplicates() #Drop any duplicates in data\n",
    "\n",
    "#decide on columns that aren't helpful in my analysis to drop them.\n",
    "df.drop(columns=['imdb_id','tagline','overview','keywords','homepage','director','budget','revenue'],inplace=True)\n",
    "\n",
    "df = df.applymap(lambda s: s.lower() if type(s) == str else s) #makesure all columns and str values are lowercase\n",
    "df = df.applymap(lambda s: s.strip() if type(s) == str else s) #strip any whitespace at the beginning and end of strings\n",
    "\n",
    "df.rename(columns={\"budget_adj\": \"budget10\", \"revenue_adj\": \"revenue10\"},inplace=True)"
   ]
  },
  {
   "cell_type": "markdown",
   "metadata": {},
   "source": [
    "6) Missing data handeling (NaNs)"
   ]
  },
  {
   "cell_type": "code",
   "execution_count": 5,
   "metadata": {},
   "outputs": [
    {
     "name": "stdout",
     "output_type": "stream",
     "text": [
      "['cast', 'genres', 'production_companies'] columns have missing values of 76,23 and 1030 respectively.\n"
     ]
    }
   ],
   "source": [
    "##MISSING DATA HANDELING \n",
    "\n",
    "cols_w_nans=df.columns[df.isnull().any()].tolist() \n",
    "#'cast,genres,production_companies' --> explore Each to figure out course of action\n",
    "\n",
    "genre_missing=df[df['genres'].isna()].shape[0] #23 is a small number so drop lines where genres is na \n",
    "\n",
    "prod_companies_missing=df[df['production_companies'].isna()].shape[0] #1030 entries is alot of data to drop --> delete this column \n",
    "\n",
    "cast_missing=df[df['cast'].isna()].shape[0] #76 entries  \n",
    "\n",
    "print(\"{} columns have missing values of {},{} and {} respectively.\".format(cols_w_nans,cast_missing,genre_missing,prod_companies_missing))"
   ]
  },
  {
   "cell_type": "markdown",
   "metadata": {},
   "source": [
    "\n",
    "In the previous cell, it's shown that the three columns cast,genres and production companies have missing values. \n",
    "\n",
    "In the next cell, we proceed to handle the missing NaNs\n",
    "\n",
    "    6a) genres: 23 entries is significant relative to the size of the df, hence we can pop rows where geners is NaN\n",
    "    \n",
    "    6b) production_companies: 1030 is alot of data to pop their entire rows,hence drop this column altogether\n",
    "###### ** It might be good to parse the homepage for the missing data"
   ]
  },
  {
   "cell_type": "code",
   "execution_count": 6,
   "metadata": {},
   "outputs": [],
   "source": [
    "\n",
    "df=df.dropna(subset=['genres'])\n",
    "df.drop(columns=['production_companies'],inplace=True)\n"
   ]
  },
  {
   "cell_type": "markdown",
   "metadata": {},
   "source": [
    "In the next cell, we continue handling missing NaNs\n",
    "\n",
    "    6c) cast: 76 entries.. Upon further inspection (1st line in the next cell), Most of the missing data is in the genres animation or documentary\n",
    "    Hence, I decided to update the missing values with suitable data\n",
    "        - \"voice_over\" for missing values in \"animation\" genre\n",
    "        - \"narrating\" for documentaries since they don't really have casts \n",
    "        \n",
    "    Also, I dropped the rows where genre is not animation/narrating\n"
   ]
  },
  {
   "cell_type": "code",
   "execution_count": 7,
   "metadata": {},
   "outputs": [
    {
     "data": {
      "text/plain": [
       "0"
      ]
     },
     "execution_count": 7,
     "metadata": {},
     "output_type": "execute_result"
    }
   ],
   "source": [
    "nan_casts=df[df['cast'].isna()]['genres']\n",
    "\n",
    "#animation\n",
    "anim=nan_casts.str.contains('animation').tolist()\n",
    "nan_casts.loc[anim].index\n",
    "df.loc[nan_casts.loc[anim].index,'cast'] = 'voiceover'\n",
    "#documentary\n",
    "docu=nan_casts.str.contains('documentary').tolist() \n",
    "nan_casts.loc[docu].index\n",
    "df.loc[nan_casts.loc[docu].index,'cast'] = 'narrating'\n",
    "\n",
    "df=df.dropna(subset=['cast'])\n",
    "\n",
    "#to make sure there are no longer missing info in the dataframe\n",
    "df.columns[df.isnull().any()].size \n"
   ]
  },
  {
   "cell_type": "markdown",
   "metadata": {},
   "source": [
    "7) In the following cell, I need to be able to explore statistics of each genre, So i need to apply the explode function. However I need to wrangle genres column to be comma-seperated first \n",
    "- Split genres by ',' instead of '|'\n",
    "- Create new data frame that use explode to create seperate rows for each genre "
   ]
  },
  {
   "cell_type": "code",
   "execution_count": 8,
   "metadata": {},
   "outputs": [
    {
     "data": {
      "text/html": [
       "<div>\n",
       "<style scoped>\n",
       "    .dataframe tbody tr th:only-of-type {\n",
       "        vertical-align: middle;\n",
       "    }\n",
       "\n",
       "    .dataframe tbody tr th {\n",
       "        vertical-align: top;\n",
       "    }\n",
       "\n",
       "    .dataframe thead th {\n",
       "        text-align: right;\n",
       "    }\n",
       "</style>\n",
       "<table border=\"1\" class=\"dataframe\">\n",
       "  <thead>\n",
       "    <tr style=\"text-align: right;\">\n",
       "      <th></th>\n",
       "      <th>id</th>\n",
       "      <th>popularity</th>\n",
       "      <th>original_title</th>\n",
       "      <th>cast</th>\n",
       "      <th>runtime</th>\n",
       "      <th>genres</th>\n",
       "      <th>release_date</th>\n",
       "      <th>vote_count</th>\n",
       "      <th>vote_average</th>\n",
       "      <th>release_year</th>\n",
       "      <th>budget10</th>\n",
       "      <th>revenue10</th>\n",
       "    </tr>\n",
       "  </thead>\n",
       "  <tbody>\n",
       "    <tr>\n",
       "      <th>0</th>\n",
       "      <td>135397</td>\n",
       "      <td>32.985763</td>\n",
       "      <td>jurassic world</td>\n",
       "      <td>chris pratt|bryce dallas howard|irrfan khan|vi...</td>\n",
       "      <td>124</td>\n",
       "      <td>action</td>\n",
       "      <td>6/9/15</td>\n",
       "      <td>5562</td>\n",
       "      <td>6.5</td>\n",
       "      <td>2015</td>\n",
       "      <td>1.379999e+08</td>\n",
       "      <td>1.392446e+09</td>\n",
       "    </tr>\n",
       "    <tr>\n",
       "      <th>1</th>\n",
       "      <td>135397</td>\n",
       "      <td>32.985763</td>\n",
       "      <td>jurassic world</td>\n",
       "      <td>chris pratt|bryce dallas howard|irrfan khan|vi...</td>\n",
       "      <td>124</td>\n",
       "      <td>adventure</td>\n",
       "      <td>6/9/15</td>\n",
       "      <td>5562</td>\n",
       "      <td>6.5</td>\n",
       "      <td>2015</td>\n",
       "      <td>1.379999e+08</td>\n",
       "      <td>1.392446e+09</td>\n",
       "    </tr>\n",
       "    <tr>\n",
       "      <th>2</th>\n",
       "      <td>135397</td>\n",
       "      <td>32.985763</td>\n",
       "      <td>jurassic world</td>\n",
       "      <td>chris pratt|bryce dallas howard|irrfan khan|vi...</td>\n",
       "      <td>124</td>\n",
       "      <td>science fiction</td>\n",
       "      <td>6/9/15</td>\n",
       "      <td>5562</td>\n",
       "      <td>6.5</td>\n",
       "      <td>2015</td>\n",
       "      <td>1.379999e+08</td>\n",
       "      <td>1.392446e+09</td>\n",
       "    </tr>\n",
       "  </tbody>\n",
       "</table>\n",
       "</div>"
      ],
      "text/plain": [
       "       id  popularity  original_title  \\\n",
       "0  135397   32.985763  jurassic world   \n",
       "1  135397   32.985763  jurassic world   \n",
       "2  135397   32.985763  jurassic world   \n",
       "\n",
       "                                                cast  runtime  \\\n",
       "0  chris pratt|bryce dallas howard|irrfan khan|vi...      124   \n",
       "1  chris pratt|bryce dallas howard|irrfan khan|vi...      124   \n",
       "2  chris pratt|bryce dallas howard|irrfan khan|vi...      124   \n",
       "\n",
       "            genres release_date  vote_count  vote_average  release_year  \\\n",
       "0           action       6/9/15        5562           6.5          2015   \n",
       "1        adventure       6/9/15        5562           6.5          2015   \n",
       "2  science fiction       6/9/15        5562           6.5          2015   \n",
       "\n",
       "       budget10     revenue10  \n",
       "0  1.379999e+08  1.392446e+09  \n",
       "1  1.379999e+08  1.392446e+09  \n",
       "2  1.379999e+08  1.392446e+09  "
      ]
     },
     "execution_count": 8,
     "metadata": {},
     "output_type": "execute_result"
    }
   ],
   "source": [
    "#I use explode to create seperate rows for each genre mentioned\n",
    "#This would come handy in analaysis related to genres and to the next section of data cleaning\n",
    "\n",
    "df['genres']=df['genres'].str.split(pat=\"|\")\n",
    "\n",
    "df_new=df.explode('genres')\n",
    "df_new.reset_index(inplace=True)\n",
    "df_new.head(3)\n"
   ]
  },
  {
   "cell_type": "markdown",
   "metadata": {},
   "source": [
    "\n",
    "8) Zeros -instead of descriptive data- handeling\n",
    "\n",
    "    I investigate values where Zeros exist instead of data to try and decide on a course of action!\n",
    "    As shown in a previous cells, these cols are: \n",
    "        - revenue10\n",
    "        - budget10\n",
    "        - runtime\n",
    "   \n",
    "- Part A:computes appropriate values in the \"exploded\" dataframe df_new because it uses genres to differentiate movies.\n",
    "\n",
    "    <u> budget10 & revenue10 </u>\n",
    "\n",
    "    I don't want to delete the rows with missing values since that would cost me almost half the database. Therfore, I opt to fill this data,I group data according to genres and based on whether the revenue is skewed or not, I fill the zeros by the mean/median of the revenue/budget for this genre.\n",
    "** https://towardsdatascience.com/handling-missing-data-12ac7c59eebc"
   ]
  },
  {
   "cell_type": "code",
   "execution_count": 9,
   "metadata": {},
   "outputs": [],
   "source": [
    "\n",
    "genres=df_new['genres'].unique()\n",
    "for genre in genres:\n",
    "    r_subgrp=df_new.groupby('genres').get_group(genre)['revenue10']\n",
    "    r_subgrp_nozeros=r_subgrp[r_subgrp!=0]\n",
    "    r_skew=np.absolute(r_subgrp_nozeros.skew())#.skew()\n",
    "    r_value=r_subgrp_nozeros.mean() if r_skew<0.5 else r_subgrp_nozeros.median()    \n",
    "    indices=df_new.query('genres==@genre & revenue10==0').index.tolist()\n",
    "    df_new.at[indices,'revenue10']=r_value\n",
    "    #df_new.loc[indices,'revenue10']=r_value\n",
    "    \n",
    "    b_subgrp=df_new.groupby('genres').get_group(genre)['budget10']\n",
    "    b_subgrp_nozeros=b_subgrp[b_subgrp!=0]\n",
    "    b_skew=np.absolute(b_subgrp_nozeros.skew())#.skew()\n",
    "    b_value=b_subgrp_nozeros.mean() if b_skew<0.5 else b_subgrp_nozeros.median()    \n",
    "    indices=df_new.query('genres==@genre & budget10==0').index.tolist()\n",
    "    df_new.at[indices,'budget10']=b_value\n",
    "    #df_new.loc[indices,'budget10']=b_value\n"
   ]
  },
  {
   "cell_type": "markdown",
   "metadata": {},
   "source": [
    "- Part A:\n",
    "\n",
    "   <u> runtime </u> \n",
    "    \n",
    "   As for zeros in the runtime coumn, I took in consideration both \"genres\" and \"release_year\", since i believe that over time audeince's preference of movies' runtime changed.\n",
    "    \n",
    "###### **I didn't take release_year in consideration because of the budget10 & revenue10 variables that are scaled to the year 2010 taking in consideration inflation of currencies\n"
   ]
  },
  {
   "cell_type": "code",
   "execution_count": 10,
   "metadata": {},
   "outputs": [],
   "source": [
    "\n",
    "a=df_new.query('runtime!=0').groupby(['genres','release_year']).skew(axis = 0, skipna = True).abs()['runtime']\n",
    "\n",
    "#prepare medians for groups of (genres, release_years) that have data skewed \n",
    "a[a>=0.5]=df_new.query('runtime!=0').groupby(['genres','release_year']).median()['runtime']\n",
    "\n",
    "#prepare means for groups of (genres, release_years) that have data skewed \n",
    "a[a<0.5]=df_new.query('runtime!=0').groupby(['genres','release_year']).mean()['runtime']\n",
    "\n",
    "list_rzeros=list(df_new.query('runtime==0').groupby(['genres','release_year']).indices.keys())\n",
    "for r in list_rzeros:\n",
    "    indices_r=df_new.query('genres==@r[0] & release_year==@r[1] & runtime==0').index.tolist()\n",
    "    toinsert_runtime=a[r[0],r[1]]\n",
    "    df_new.loc[indices_r,'runtime']=toinsert_runtime"
   ]
  },
  {
   "cell_type": "markdown",
   "metadata": {},
   "source": [
    "8) \n",
    "- Part B: update original df with computed revenues, budgets, runtimes\n",
    "    \n",
    "   In order to that, i need to have a unique value of budget10,revenue10 and runtime to incorporate in the original dataframe that has genres (not-exploded). So before i update the original dataframe, I use mean of the values computed for the same id if the movie is under multiple genres"
   ]
  },
  {
   "cell_type": "code",
   "execution_count": 11,
   "metadata": {
    "scrolled": false
   },
   "outputs": [],
   "source": [
    "\n",
    "return_to_df=df_new.groupby('id').mean()[['runtime','budget10','revenue10']]#.query('id==7006')\n",
    "indd=df_new.groupby('id').mean()[['runtime','budget10','revenue10']].index.tolist()\n",
    "\n",
    "df.loc[indd,'runtime']=return_to_df['runtime'].values\n",
    "df.loc[indd,'revenue10']=return_to_df['revenue10'].values\n",
    "df.loc[indd,'budget10']=return_to_df['budget10'].values\n"
   ]
  },
  {
   "cell_type": "markdown",
   "metadata": {},
   "source": [
    "9) In the next cell:\n",
    "- use datetime package to tell if a day falls in a weekend or not (this'll come handy in Q2)\n",
    "- removed the year from the release date because it's already covered in release_year \n"
   ]
  },
  {
   "cell_type": "code",
   "execution_count": 12,
   "metadata": {},
   "outputs": [],
   "source": [
    "dates=pd.to_datetime(df['release_date'], infer_datetime_format=True)#\n",
    "weekend_ornot=dates.dt.dayofweek \n",
    "df['release_date']=df['release_date'].str.rsplit(pat='/',n=1).str.get(0)"
   ]
  },
  {
   "cell_type": "markdown",
   "metadata": {},
   "source": [
    "<a id='eda'></a>\n",
    "## Exploratory Data Analysis\n",
    "\n",
    "### Q1: What are the characteristics of high revenue <u> >75% </u> movies ?\n",
    "#### Setup of data for q1"
   ]
  },
  {
   "cell_type": "code",
   "execution_count": 13,
   "metadata": {},
   "outputs": [
    {
     "name": "stdout",
     "output_type": "stream",
     "text": [
      "Pearson correlation with revenue=\n"
     ]
    },
    {
     "data": {
      "text/plain": [
       "popularity      0.532995\n",
       "runtime         0.270695\n",
       "vote_count      0.639213\n",
       "vote_average    0.267123\n",
       "release_year   -0.070023\n",
       "budget10        0.495100\n",
       "revenue10       1.000000\n",
       "Name: revenue10, dtype: float64"
      ]
     },
     "metadata": {},
     "output_type": "display_data"
    }
   ],
   "source": [
    "high_profit=df.describe()['revenue10']['75%']\n",
    "df_profit=df.query('revenue10>=@high_profit')\n",
    "\n",
    "p_corr=df_profit.corr(method='pearson')['revenue10']\n",
    "print('Pearson correlation with revenue=')\n",
    "display(p_corr)\n",
    "\n",
    "#Can't use seaborn because it takes a long time to run on a big dataset!\n",
    "#import seaborn as sns\n",
    "#sns.pairplot(df_profit, y_vars=\"revenue10\", x_vars=df_profit.columns.values)\n"
   ]
  },
  {
   "cell_type": "markdown",
   "metadata": {},
   "source": [
    "In the previous cell,\n",
    "- I filtered the data where the revenue10 is bigger than 75% percentile, which is what the question means by High revenue data\n",
    "- I stated the pearson correlation to decide what variables I'll study it's effect on revenue\n",
    "\n",
    "##### 1) How does the budget affect high revenue movies?\n",
    " "
   ]
  },
  {
   "cell_type": "code",
   "execution_count": 14,
   "metadata": {},
   "outputs": [
    {
     "data": {
      "image/png": "[encoded data removed]",
      "text/plain": [
       "<matplotlib.figure.Figure at 0x7f55a874d2b0>"
      ]
     },
     "metadata": {},
     "output_type": "display_data"
    }
   ],
   "source": [
    "#1) budget\n",
    "budget_75=df.describe()['budget10']['75%']\n",
    "hprofit_hbudget=df_profit.query('budget10>=@budget_75').groupby('budget10').count().sum()['popularity']\n",
    "\n",
    "hprofit_pie=[df_profit.shape[0]-hprofit_hbudget,hprofit_hbudget]\n",
    "mylabels=['low budget high revenue movies %','high budget high revenue movies %']\n",
    "plt.pie(hprofit_pie, labels = mylabels,autopct='%1.1f%%');#, explode = myexplode)\n",
    "plt.title('CMP high revenue movies and their budgets');\n",
    "plt.show()\n"
   ]
  },
  {
   "cell_type": "markdown",
   "metadata": {},
   "source": [
    "As expected, it takes money to make money. This is confirmed through the previous cell and the pie chart that clearly shows almost 70% of high revenue movies require production to exceed 75% of the whole database of movies.\n",
    "\n",
    "##### 2) Does high budget necessarily mean high popularity though? Check the next cell for the results"
   ]
  },
  {
   "cell_type": "code",
   "execution_count": 15,
   "metadata": {},
   "outputs": [
    {
     "name": "stdout",
     "output_type": "stream",
     "text": [
      "Correlation between popularity & revenue= 0.53\n"
     ]
    },
    {
     "data": {
      "image/png": "[encoded data removed]",
      "text/plain": [
       "<matplotlib.figure.Figure at 0x7f55a87a9400>"
      ]
     },
     "metadata": {
      "needs_background": "light"
     },
     "output_type": "display_data"
    }
   ],
   "source": [
    "pr_corr=df_profit['popularity'].corr(df_profit['revenue10'])\n",
    "print('Correlation between popularity & revenue= {:.2f}'.format(pr_corr))\n",
    "\n",
    "df_profit.plot.scatter(x='revenue10', y='popularity',label = 'high profit movies')\n",
    "plt.legend()\n",
    "plt.show()"
   ]
  },
  {
   "cell_type": "markdown",
   "metadata": {},
   "source": [
    "According to the previous scatter plot:\n",
    "- There are outliers in the revenue10 data that are not representative to the mode of the rest of the movies\n",
    "- The answer to the question of whether high budget=high popularity is No! The varables don't seem causated.\n",
    "\n",
    "Which raises the question, <u> which variable affects the popularity entity? </u>\n",
    "\n",
    "According to the description of the variable on Tmdb, it reflects various factors such as the number of views per day, number of people who \"favorite\"-ed the movie or added it to their \"watchlist\". I'd say vote_count is the closest information to this description. The next cell confirms this by high correlation between the two variables(revenue10 & vote_count) for high profit movies\n"
   ]
  },
  {
   "cell_type": "code",
   "execution_count": 16,
   "metadata": {},
   "outputs": [
    {
     "name": "stdout",
     "output_type": "stream",
     "text": [
      "Correlation between popularity & vote count= 0.77\n"
     ]
    },
    {
     "data": {
      "image/png": "[encoded data removed]",
      "text/plain": [
       "<matplotlib.figure.Figure at 0x7f55a878e400>"
      ]
     },
     "metadata": {
      "needs_background": "light"
     },
     "output_type": "display_data"
    }
   ],
   "source": [
    "pv_corr=df_profit['popularity'].corr(df_profit['vote_count'])\n",
    "print('Correlation between popularity & vote count= {:.2f}'.format(pv_corr))\n",
    "\n",
    "df_profit.plot.scatter(x='vote_count', y='popularity',label = 'high profit movies')\n",
    "plt.legend()\n",
    "plt.show()"
   ]
  },
  {
   "cell_type": "markdown",
   "metadata": {},
   "source": [
    "##### 3) How does average count compare to revenue of high-profit movies? "
   ]
  },
  {
   "cell_type": "code",
   "execution_count": 17,
   "metadata": {},
   "outputs": [
    {
     "data": {
      "image/png": "[encoded data removed]",
      "text/plain": [
       "<matplotlib.figure.Figure at 0x7f55a87e6940>"
      ]
     },
     "metadata": {
      "needs_background": "light"
     },
     "output_type": "display_data"
    },
    {
     "data": {
      "image/png": "[encoded data removed]",
      "text/plain": [
       "<matplotlib.figure.Figure at 0x7f55a87d9780>"
      ]
     },
     "metadata": {
      "needs_background": "light"
     },
     "output_type": "display_data"
    },
    {
     "name": "stdout",
     "output_type": "stream",
     "text": [
      "All movies:stats of vote_average\n"
     ]
    },
    {
     "data": {
      "text/plain": [
       "count    10839.000000\n",
       "mean         5.973844\n",
       "std          0.934244\n",
       "min          1.500000\n",
       "25%          5.400000\n",
       "50%          6.000000\n",
       "75%          6.600000\n",
       "max          9.200000\n",
       "Name: vote_average, dtype: float64"
      ]
     },
     "metadata": {},
     "output_type": "display_data"
    },
    {
     "name": "stdout",
     "output_type": "stream",
     "text": [
      "High-profit movies: stats of vote_average\n"
     ]
    },
    {
     "data": {
      "text/plain": [
       "count    2710.000000\n",
       "mean        6.214317\n",
       "std         0.858937\n",
       "min         1.500000\n",
       "25%         5.700000\n",
       "50%         6.300000\n",
       "75%         6.800000\n",
       "max         8.300000\n",
       "Name: vote_average, dtype: float64"
      ]
     },
     "metadata": {},
     "output_type": "display_data"
    }
   ],
   "source": [
    "votes=[df['vote_average'],df_profit['vote_average']]\n",
    "#HISTOGRAM\n",
    "plt.figure(figsize=(6,6))\n",
    "plt.hist(df['vote_average'], bins=100, alpha=0.5, label=\"vote_avg\");\n",
    "plt.hist(df_profit['vote_average'], bins=100, alpha=0.5, label=\"high profit vote_avg\");\n",
    "plt.title(\"vote_average Histograms with Matplotlib\")\n",
    "plt.legend(loc='upper right')\n",
    "plt.show()\n",
    "\n",
    "#HANDELING A WARNING FOR CREATING THE VARIABLE VOTES\n",
    "np.warnings.filterwarnings('ignore', category=np.VisibleDeprecationWarning)    \n",
    "\n",
    "#BOXPLOT\n",
    "plt.boxplot(votes)\n",
    "plt.xticks([1, 2], ['Over all movies', 'Over high-revenue movies'])\n",
    "plt.title(\"vote_average Boxplots\")\n",
    "plt.show()\n",
    "\n",
    "print('All movies:stats of vote_average')\n",
    "display(df.describe()['vote_average'])\n",
    "\n",
    "print('High-profit movies: stats of vote_average')\n",
    "display(df_profit.describe()['vote_average'])\n"
   ]
  },
  {
   "cell_type": "markdown",
   "metadata": {},
   "source": [
    "- As shown by the distribution of average_count for all movies vs distribtion of average_count for high profit movies,the distribution is more or less untact, meaning that filtering the high profit movies didn't skew the distribution of their revenues! \n",
    "- In the box plot, \n",
    "1) there's slightly less variation in the statistics of high profit movies (tighter box)\n",
    "2) It's also shown that +ve outliers that are shown in the box_plot over the entier database aren't present in the filtered high_profit box plot which means that some of the highly voted_movies are made with smaller budgets!\n",
    "3) The negative outliers are common in the two box plots which i take to mean that some of the highly profitable movies are under-voted (under-estimated too)"
   ]
  },
  {
   "cell_type": "markdown",
   "metadata": {},
   "source": [
    "#### Q2: Effect of time of release of movies (holidays/weekends) on the number of movies released per yer and over all years\n",
    "\n",
    "- Why did i choose the second question to be dependant on release_year? \n",
    "\n",
    "In the next cell, the answer comes in the form of a histogram that shows how much the year of release affects the count of movies released."
   ]
  },
  {
   "cell_type": "code",
   "execution_count": 18,
   "metadata": {},
   "outputs": [
    {
     "data": {
      "image/png": "[encoded data removed]",
      "text/plain": [
       "<matplotlib.figure.Figure at 0x7f55a87eda20>"
      ]
     },
     "metadata": {
      "needs_background": "light"
     },
     "output_type": "display_data"
    }
   ],
   "source": [
    "fig = plt.figure();\n",
    "ax = fig.gca();\n",
    "df['release_year'].hist(ax = ax);\n",
    "plt.title(\"Histogram of number of movies released over the years\");\n",
    "plt.xlabel(\"release_year\");\n",
    "plt.ylabel(\"# of movies\");"
   ]
  },
  {
   "cell_type": "markdown",
   "metadata": {},
   "source": [
    "#### Q2 data setup \n",
    "- Append two cols \n",
    "\n",
    "    1) weekend/not\n",
    "    \n",
    "         I define a list of holidays in the US, assign 1s where release_date coincide with that list and 0s otherwise\n",
    "    **https://www.timeanddate.com/holidays/us/?hol=25\n",
    "    \n",
    "    2) holiday/not\n",
    "    \n",
    "        This depends on 9) in datawrangling section, each day of the week is labeled by an integer, so i check if the int>4 meaning it's either Saturday or Sunday and assign holiday/not bool accordingly\n",
    "        \n",
    "###### ** I use USA for deducing the holidays and weekends (saturday/sunday). However, for more percision I should use production companies, locate them and use holidays and weekends according to the country it was released in. \n",
    "   "
   ]
  },
  {
   "cell_type": "code",
   "execution_count": 19,
   "metadata": {},
   "outputs": [],
   "source": [
    "\n",
    "holidays=['1/1','1/17','2/14','2/21','3/17','4/17','4/18','5/5','5/8','5/30','6/14','6/19','6/20','7/4','9/5','10/10','10/31','11/8','11/11','11/24','12/24','12/25','12/26','12/31']\n",
    "\n",
    "df['holiday/not'] = [0] * len(df.index)\n",
    "holiday_or_not=df['release_date'].isin(holidays)   \n",
    "df.loc[holiday_or_not,'holiday/not']=1\n",
    "\n",
    "df['weekend/not']= [0] * len(df.index)\n",
    "weekends_ind=weekend_ornot[weekend_ornot>4].index.tolist() \n",
    "df.loc[weekends_ind,'weekend/not']=1"
   ]
  },
  {
   "cell_type": "markdown",
   "metadata": {},
   "source": [
    "#### Q2 analysis \n",
    "In the next cell, \n",
    "\n",
    "1) filter data of interest--> Movies that makes profit (aka revenue?budget) \n",
    "\n",
    "2) find count of movies in each of the following grps (weekens,holidays,both,non) to see if a certain group is popular with movies that made profit"
   ]
  },
  {
   "cell_type": "code",
   "execution_count": 20,
   "metadata": {},
   "outputs": [],
   "source": [
    "\n",
    "df_profiting=df.query('revenue10>budget10')\n",
    "\n",
    "r=df_profiting.groupby(['weekend/not','holiday/not','release_year']).count()['popularity']\n",
    "# This line is used to stack 0s in years where for instance no movies where mad in weekends, this will come handy in plotting\n",
    "r=r.unstack(fill_value=0).stack()\n",
    "\n",
    "per_year=df_profiting.groupby('release_year').count()['popularity']#.tolist()\n",
    "years=df_profiting['release_year'].unique()\n",
    "\n",
    "neither_nor=r[0,0,]/per_year\n",
    "on_weekends=r[1,0,]/per_year\n",
    "on_holidays=r[0,1,]/per_year\n",
    "on_both=r[1,1,]/per_year\n",
    "\n"
   ]
  },
  {
   "cell_type": "markdown",
   "metadata": {},
   "source": [
    "#### Q2 plot and results \n",
    "\n",
    "The next plot is per-year, so the counts are normalized to total number of movies released per year"
   ]
  },
  {
   "cell_type": "code",
   "execution_count": 21,
   "metadata": {},
   "outputs": [
    {
     "data": {
      "image/png": "[encoded data removed]",
      "text/plain": [
       "<matplotlib.figure.Figure at 0x7f55a90d97b8>"
      ]
     },
     "metadata": {
      "needs_background": "light"
     },
     "output_type": "display_data"
    }
   ],
   "source": [
    "\n",
    "plt.figure(figsize=(12,6))\n",
    "plt.bar(years, neither_nor, color='g')\n",
    "plt.bar(years, on_weekends, bottom=neither_nor, color='b')\n",
    "plt.bar(years, on_holidays, bottom=neither_nor+on_weekends, color='y')\n",
    "plt.bar(years, on_both, bottom=neither_nor+on_weekends+on_holidays, color='r')\n",
    "plt.xlabel(\"release_year\")\n",
    "plt.ylabel(\"# of movies - scaled/year\")\n",
    "plt.legend([\"neither(weekday)\", \"weekends\",\"holidays\", \"both\"])\n",
    "plt.title(\"How popular are weekends/holidays?\")\n",
    "plt.show()\n"
   ]
  },
  {
   "cell_type": "markdown",
   "metadata": {},
   "source": [
    "The bar chart above shows how movie releases' are distributed among each year. It's easy to spot that on year 1977, almost 50% of movies released where released between holidays,weekends or both!\n",
    "\n",
    "In the following chart, we also look at the count of movies in general,regardless the year."
   ]
  },
  {
   "cell_type": "code",
   "execution_count": 22,
   "metadata": {},
   "outputs": [
    {
     "data": {
      "image/png": "[encoded data removed]",
      "text/plain": [
       "<matplotlib.figure.Figure at 0x7f55a88e12b0>"
      ]
     },
     "metadata": {},
     "output_type": "display_data"
    }
   ],
   "source": [
    "\n",
    "mylabels=['# in holidays','# in weekends','# in holidays&weekends','# in neither/not (weekdays)']\n",
    "plt.pie([(on_holidays*per_year).sum(),(on_weekends*per_year).sum(),(on_both*per_year).sum(),(neither_nor*per_year).sum()], labels = mylabels,autopct='%1.1f%%');#, explode = myexplode)\n",
    "plt.title('Number of movies released on weekends,holidays and weekdays over 55 years');\n"
   ]
  },
  {
   "cell_type": "markdown",
   "metadata": {},
   "source": [
    "### Q3) Trend/pattern of budget,revenue,popularity and votes count on movies with several parts (sequels or remakes) \n",
    "\n",
    "###### ** This question mainly stems from my trial to parse through text data to find identifiers \n",
    "(words--> 'part' or 'and'  , chars--> ' , ' or ' : ' )  "
   ]
  },
  {
   "cell_type": "markdown",
   "metadata": {},
   "source": [
    "- In the next cell, I sort data according to title so that closely similar titles are closely located (for easier search)\n",
    "\n",
    "- Two functions are defined\n",
    "      \n",
    "    <u> similar function:</u> uses sequence matcher function to compare the titles of movies \n",
    "\n",
    "    <u> sequels function:</u> tries to find PAIRS of movies whose original_title are highly similar (aka sequels or remakes)\n",
    "    It investigtes two markers for data:\n",
    "    \n",
    "    - contains ':' so it compares the str prior to ':' to other titles  \n",
    "    \n",
    "    - contains neither and compares the whole str of titles\n",
    "    \n",
    "    \n",
    "###### ** Important Disclaimer regarding sequels function: this function captures alot of sequels, YET it also misses alot (e.g. there should be analysis for titles that are closely similar around the words 'and' and 'part' to catch franchise such as (Harry potter and .. )\n",
    "Accordingly, Q3 compares the successfully fetched sequels and attempts no comparison to the rest of the dataset since movies not captured <u> are not necessarily a 1-part movie </u>"
   ]
  },
  {
   "cell_type": "code",
   "execution_count": 23,
   "metadata": {
    "scrolled": false
   },
   "outputs": [],
   "source": [
    "def similar(a, b):\n",
    "    #Sequence matcher compares two strs\n",
    "    return SequenceMatcher(None, a, b)#.ratio()\n",
    "\n",
    "def sequels(a,a_ind):\n",
    "    stop=0\n",
    "    ind_sequels = np.zeros((len(a),2))\n",
    "    for i in range(len(a)-1):\n",
    "        j=i+1\n",
    "        ratio=similar(a[i],a[j]).ratio() #similar.ratio returns a number bet 0 and 1 showing how similar two strs are\n",
    "        condA=':' in a[i]\n",
    "        condB=' part ' in a[i]\n",
    "        condC=' and ' in a[i] \n",
    "        cond=(condA or condB)\n",
    "        \n",
    "        if cond==0 and ratio>0.85 and ratio<1:\n",
    "            sim=similar(a[i],a[j]).find_longest_match(alo=0, ahi=len(a[i]), blo=0, bhi=len(a[j]))\n",
    "            #find_longest_match return the longest stream of chars similar between two strings\n",
    "            #sim[0]=beg of match in 1st str, sim[1]= beg of match in 2nd str,sim[2]=len of match\n",
    "            \n",
    "            cond1=(sim[0]==0 and sim[1]==0 and a[i][sim[2]-sim[0]].isalpha()==0)\n",
    "            #cond1: if the start of 2 strs match AND the match is bet Full words \n",
    "            #(aka the first char after the match is not alphabetic)\n",
    "            \n",
    "            cond2=a[j] in a[i] and a[i][sim[2]-sim[0]].isalpha()==0\n",
    "            #cond2: if a str is part of the other AND the str included in the other is alphabetical(not numbers or punctuation)  \n",
    "            \n",
    "            if (cond1 or cond2):\n",
    "                #print(a_ind[i],a_ind[j]) **********USE THIS LINE TO SEE SEQUELS PARSED\n",
    "                ind_sequels[i,0]=a_ind[i]\n",
    "                ind_sequels[i,1]=a_ind[j]\n",
    "                \n",
    "        elif condA==1:\n",
    "            # if : is in the strs, compare the chars before the :, because it's most probably the common identifier of a franchise\n",
    "            bi=a[i].split(':')[0]\n",
    "            bj=a[j].split(':')[0]\n",
    "            ratio2=similar(bi,bj).ratio()\n",
    "            sim=similar(bi,bj).find_longest_match(alo=0, ahi=len(bi), blo=0, bhi=len(bj))\n",
    "            if ratio2>0.8: \n",
    "                #print(a[i],a[j]) **********USE THIS LINE TO SEE SEQUELS PARSED\n",
    "                ind_sequels[i,0]=a_ind[i]\n",
    "                ind_sequels[i,1]=a_ind[j]\n",
    "                \n",
    "    return ind_sequels    \n",
    "\n",
    "a=df.sort_values(by='original_title',ascending=False)['original_title'].values.tolist()\n",
    "a_ind=df.sort_values(by='original_title',ascending=False)['original_title'].index.tolist()\n",
    "\n",
    "tst=sequels(a,a_ind).tolist()    \n",
    "dfr=pd.DataFrame(tst,columns=['col1', 'col2']) #put the pais in a df\n",
    "\n"
   ]
  },
  {
   "cell_type": "markdown",
   "metadata": {},
   "source": [
    "- In the next cell, I zip the pair into a tuple, since i need to compare the second element of a tuple to the first of the subsequent pairs\n",
    "\n",
    "- This way is easier than comparing an element of a col to elements of another col and next rows.\n"
   ]
  },
  {
   "cell_type": "code",
   "execution_count": 24,
   "metadata": {},
   "outputs": [],
   "source": [
    "df_s=dfr.loc[~(dfr==0).all(axis=1)]\n",
    "aa = df_s.col1\n",
    "b = df_s.col2\n",
    "x = zip(aa, b)\n",
    "xx=tuple(x)"
   ]
  },
  {
   "cell_type": "markdown",
   "metadata": {},
   "source": [
    "- In this cell,I work on the pairs of sequels previously captured to form a record of all parts of a movie\n",
    "- To do so, i attempt to find intersections between subsequent pairs -remember these pairs come from ordered titles so i won't have to look beyond one pair below the one at hand to tell if it has sequels or prequels\n",
    "- When i do find intersections, I union the two pairs into one record\n"
   ]
  },
  {
   "cell_type": "code",
   "execution_count": 25,
   "metadata": {},
   "outputs": [],
   "source": [
    "df_ss=pd.DataFrame()\n",
    "zt=[]\n",
    "skip=0\n",
    "for z in range(len(xx)-1):\n",
    "    if(skip>0):\n",
    "        skip=skip-1\n",
    "        continue\n",
    "    else:    \n",
    "        it=1\n",
    "        union=xx[z]\n",
    "        while(it>0):\n",
    "            if len(set(union) & set(xx[z+it]))>0:\n",
    "                union=tuple(set(union+xx[z+it]))\n",
    "                it=it+1\n",
    "                skip=skip+1\n",
    "            else:\n",
    "                it=0            \n",
    "    zt.append(union)\n",
    "df_ss=pd.Series(zt)    "
   ]
  },
  {
   "cell_type": "markdown",
   "metadata": {},
   "source": [
    "- Data frame to work on (rania) is appended with a column [id_sequels] that represent a unique id for each franchise of movies"
   ]
  },
  {
   "cell_type": "code",
   "execution_count": 26,
   "metadata": {},
   "outputs": [],
   "source": [
    "rania=df.sort_values(by='original_title',ascending=False)#['original_title']#print(df_ss) ,max(df_ss, key=len)\n",
    "\n",
    "rania.loc[:,'id_sequels']=0\n",
    "for r in range(len(df_ss)):\n",
    "    for z in range(len(df_ss[r])):\n",
    "        rania.loc[int(df_ss[r][z]),'id_sequels']=r\n",
    "\n",
    "rania=rania.drop(rania.query('id_sequels==0').index.tolist())        \n"
   ]
  },
  {
   "cell_type": "markdown",
   "metadata": {},
   "source": [
    "- In the next cell I scale the quantities <u>revenue, budget,popularity and vote_average </u> of the oldest movie of each franchise to 1 and <u> revenue, budget,popularity and vote_average </u> of the rest of the franchise is normalized according to the oldest, for every franchise."
   ]
  },
  {
   "cell_type": "code",
   "execution_count": 27,
   "metadata": {},
   "outputs": [],
   "source": [
    "g=rania.groupby(['id_sequels'])\n",
    "cols=['revenue10','budget10','popularity','vote_count']\n",
    "for r in range(1,len(df_ss)):\n",
    "    a=g.get_group(r).sort_values(by='release_year',ascending=True)\n",
    "    a_r=[]\n",
    "    for col in cols: \n",
    "        a_r=a[col].tolist()\n",
    "        a[col]=np.divide(a_r, a_r[0])\n",
    "    \n",
    "    locs=a.index.tolist()\n",
    "    rania.loc[locs,cols]=a[cols]\n"
   ]
  },
  {
   "cell_type": "markdown",
   "metadata": {},
   "source": [
    "- In the next cell i prepare data for plotting\n",
    "\n",
    "<u> extract_perpart function </u> \n",
    "    \n",
    "    1) gets the order of the movie within a franchise - extension of the attributes groupby.first() for all elements \n",
    "    2) appends zeros to have evenly sized arrays for plotting e.g. there's a movie of 7 parts so for movies of two, append 5 zeros\n",
    "    \n",
    "##### ** Disclaimer I use np and lists in this cell, hence it's execution time is noticable"
   ]
  },
  {
   "cell_type": "code",
   "execution_count": 28,
   "metadata": {},
   "outputs": [],
   "source": [
    "norm_cols=rania[['id_sequels','release_year','revenue10','budget10','popularity','vote_count']]\n",
    "maximum_parts=max(rania.groupby(['id_sequels']).count()['popularity'].tolist())\n",
    "\n",
    "tst=rania.groupby([\"id_sequels\"]).apply(lambda x: x.sort_values([\"release_year\"], ascending = True))#.reset_index(drop=True)\n",
    "\n",
    "r_graph=np.zeros((maximum_parts,norm_cols['id_sequels'].nunique()))\n",
    "b_graph=np.zeros((maximum_parts,norm_cols['id_sequels'].nunique()))\n",
    "p_graph=np.zeros((maximum_parts,norm_cols['id_sequels'].nunique()))\n",
    "v_graph=np.zeros((maximum_parts,norm_cols['id_sequels'].nunique()))\n",
    "\n",
    "len_grp=norm_cols.groupby(['id_sequels']).count()['popularity'].values.tolist()\n",
    "\n",
    "\n",
    "def extract_perpart(tst,c):\n",
    "    graph1=np.zeros((maximum_parts,norm_cols['id_sequels'].nunique()))\n",
    "    for z in range(maximum_parts):\n",
    "        #c='revenue10'\n",
    "        tmp=[]\n",
    "        for t in range(1,tst['id_sequels'].nunique()+1):\n",
    "            r=tst.loc[t,c].tolist()\n",
    "            if z<len_grp[t-1]:\n",
    "                tmp.append(r[z])\n",
    "            else:\n",
    "                tmp.append(0)\n",
    "        graph1[z,:]=tmp\n",
    "    return graph1\n",
    "\n",
    "r_graph=extract_perpart(tst,'revenue10')\n",
    "b_graph=extract_perpart(tst,'budget10')\n",
    "p_graph=extract_perpart(tst,'popularity')\n",
    "v_graph=extract_perpart(tst,'vote_count')"
   ]
  },
  {
   "cell_type": "markdown",
   "metadata": {},
   "source": [
    "#### Q4 plots\n",
    "\n",
    "-  In comparing franchise, I figured that it's unfair to compare a sequel of 2 movies with a movie of 10 parts for instance, Hence, i compare movies with the same # of parts together (e.g. trioloigies are compared with each other)"
   ]
  },
  {
   "cell_type": "code",
   "execution_count": 29,
   "metadata": {},
   "outputs": [
    {
     "data": {
      "image/png": "[encoded data removed]",
      "text/plain": [
       "<matplotlib.figure.Figure at 0x7f55a87fecc0>"
      ]
     },
     "metadata": {
      "needs_background": "light"
     },
     "output_type": "display_data"
    }
   ],
   "source": [
    "dd=np.unique(len_grp)\n",
    "\n",
    "def pop_zeros(items):\n",
    "    while items[-1] == 0:\n",
    "        items.pop()\n",
    "    return items\n",
    "\n",
    "match_len=np.zeros((len(dd),norm_cols['id_sequels'].nunique()))\n",
    "for i in range(1,norm_cols['id_sequels'].nunique()):\n",
    "    lstrip=pop_zeros(b_graph[:,i-1].tolist()) #any graph not necessarily b_graph can be r v p \n",
    "    pos=np.where(dd==len(lstrip))\n",
    "    match_len[pos,i]=i-1\n",
    "\n",
    "figure, axes = plt.subplots(nrows=len(dd), ncols=2,figsize=(18, 10),sharex=True, sharey=False)\n",
    "\n",
    "for i in range(len(dd)):\n",
    "\n",
    "    to_plt_ind=match_len[i,match_len[i,:]!=0].astype(int)\n",
    "    \n",
    "    xb=b_graph[:,to_plt_ind].transpose()\n",
    "    xb_mean=pop_zeros(xb.mean(0).tolist())\n",
    "\n",
    "    xr=r_graph[:,to_plt_ind].transpose()\n",
    "    xr_mean=pop_zeros(xr.mean(0).tolist())\n",
    "    \n",
    "    xv=v_graph[:,to_plt_ind].transpose()\n",
    "    xv_mean=pop_zeros(xv.mean(0).tolist())\n",
    "    \n",
    "    xp=p_graph[:,to_plt_ind].transpose()\n",
    "    xp_mean=pop_zeros(xp.mean(0).tolist())\n",
    "    \n",
    "    axes[i, 0].plot(xb_mean,'b', label = \"budget\", linestyle=\"--\")\n",
    "    axes[i, 0].plot(xr_mean,'r', label = \"revenue\", linestyle=\"-\")\n",
    "    \n",
    "    axes[i, 1].plot(xv_mean,'g', label = \"vote_count\", linestyle=\"-.\")\n",
    "    axes[i, 1].plot(xp_mean,'m', label = \"popularity\", linestyle=\"-\")\n",
    "\n",
    "    if i==0:\n",
    "        axes[i,0].set_title(\"mean of changes in revenue and budget\", loc='center')\n",
    "        axes[i,1].set_title(\"mean of changes in popularity and vote count\", loc='center')\n",
    "    elif i==len(dd)-1:\n",
    "        axes[i,0].set_xlabel(\"Parts of a movie\")\n",
    "        axes[i,1].set_xlabel(\"Parts of a movie\")\n",
    "        \n",
    "    figure.suptitle(\"Analysis of Movies with several parts\")\n",
    "    figure.legend()\n",
    "    "
   ]
  },
  {
   "cell_type": "markdown",
   "metadata": {},
   "source": [
    "#### Q3 plots observations\n",
    "\n",
    "##### Means of budgets and revenues\n",
    "- It's a relatively safe bet to make a second and third part of a movie, afterwards it's a gamble.\n",
    "\n",
    "**Disclaimer: <u> Although we previously normalized the quantities wrt to the original_part, the y-ticks are ridiculously irregulr, this is due to several factors to name a few\n",
    "    1) some revenues and budgets provided are clearly faulty or use a different currency or is missing a few millions (ex 40 thousand not 40) etc. This made no difference in the previous analysis because we hadn't compared specific movies against each other, so if a part has faulty revenue (3 digit) and the sequel has normal budget (6 digits),the normalizing of this movie would over-ride the mean of the rest of normalized revenues\n",
    "    2) Another reason could be the filled -in values of budgets and revenues, that were based on generic statistics across genres and release_years </u>\n",
    "\n",
    "##### Means of popularity and vote_count\n",
    "- There's not much intake from these plots except confirming the obvious causation between vote_count and popularity\n",
    "- Also the trends of popularity and revenue kind-of work along each other -if you look across each row of the two plots\n",
    "\n",
    "**Disclaimer <u> the same as previous one but only for bullet point 1, since the vote_count column had no missing data to fill-in </u>\n"
   ]
  },
  {
   "cell_type": "markdown",
   "metadata": {},
   "source": [
    "<a id='conclusions'></a>\n",
    "\n",
    "## Conclusion\n",
    "\n",
    "In this analysis, I attempted to analyze tmdb movie dataset to derive conclusions/observations regarding various central questions. \n",
    "In the data wrangling section, I attempted to fill missing values depending on the factors I found fitting. For the revenue and budget values, I think genres play an important role in determining the range -at least- of budgets and revenues. Appropriate stastics (skew,median,mean) where used to fill in those values instead of removing the data of their movies altogether. As for runtime, similar approach was followed, however this time the year of the movie's release played a part as well since movies (and songs for that matter) grew shorter over time.\n",
    " \n",
    "The first question was related to movies that lie in the higher percentile of revenues.It's observed that budgets that are in the higher percentile (75%) take up 70% of pie-chart of the high-profit movies. The average of people's votes and popularity showed little to no-effect on revenues of movies, which makes sense if we think of revenue as short-term rubric for a movie's success, but has no effect on how well a movie ages. Many movies where critically acclaimed movies and made no revenues and vice versa. Further inspection in this question could include parsing the homepage of each movie to retrieve missing data in production companies and cast, since for sure some names are associated with successful movies.\n",
    "\n",
    "The little-to-non effect of vote_count and popularity made more sense when the correlation between vote_count and popularity was confirmed through pearson correlation (0.77) and the scatter plot showed positive correlation between the two variables. \n",
    "\n",
    "The second question focused on the huge effect of years on movies' count. Data wrangling was necessary to identify weekends and holidays throughout the years and then attempt to concisely present a bar chart that easily spots the years where proudction companies focused on holidays and weekends to release their movies. I used US holidays and weekends as a reference although there are foreign movies and titles that aren't in english, so deriving these answers depend on my assumption that at least most of those movies are american hence comply to US's calender. \n",
    "\n",
    "The third and last question was more of a quest to parse through the original movies' titles to find sequels or remakes. This function serves as a starting point, but should be much more polished to capture all sequels and absolutely discard the rest. Since this level of confidence isn't where I'm at, I avoided misleading results by focusing my analysis on the sequels I did find. Grouping them in terms of the number of sequels found and displaying the mean of several statistics budget,revenue,popularity and vote_count.\n"
   ]
  },
  {
   "cell_type": "code",
   "execution_count": 30,
   "metadata": {},
   "outputs": [
    {
     "data": {
      "text/plain": [
       "0"
      ]
     },
     "execution_count": 30,
     "metadata": {},
     "output_type": "execute_result"
    }
   ],
   "source": [
    "from subprocess import call\n",
    "call(['python', '-m', 'nbconvert', 'Investigate_a_Dataset.ipynb'])"
   ]
  }
 ],
 "metadata": {
  "kernelspec": {
   "display_name": "Python 3",
   "language": "python",
   "name": "python3"
  },
  "language_info": {
   "codemirror_mode": {
    "name": "ipython",
    "version": 3
   },
   "file_extension": ".py",
   "mimetype": "text/x-python",
   "name": "python",
   "nbconvert_exporter": "python",
   "pygments_lexer": "ipython3",
   "version": "3.6.3"
  }
 },
 "nbformat": 4,
 "nbformat_minor": 2
}
